{
 "cells": [
  {
   "cell_type": "markdown",
   "metadata": {},
   "source": [
    "### Jupyter Tip"
   ]
  },
  {
   "cell_type": "markdown",
   "metadata": {},
   "source": [
    "명령어모드와 입력모드 전환 : `Esc`\n",
    "+ 명령어모드 = 파란색\n",
    "+ 입력모드   = 파란색"
   ]
  },
  {
   "cell_type": "markdown",
   "metadata": {},
   "source": [
    "![](./img/1028/esc.png)"
   ]
  },
  {
   "cell_type": "markdown",
   "metadata": {},
   "source": [
    "1. 셀 만들기   \n",
    "명령어 모드에서\n",
    "+ `A` : 위에다가 셀 만들기\n",
    "+ `B` : 아래다가 셀 만들기"
   ]
  },
  {
   "cell_type": "markdown",
   "metadata": {},
   "source": [
    "2. 셀 나누고 합치기   \n",
    "명령어 모드에서\n",
    "+ `Shift` + `M` : 합치기. 명령어모드에서 `Shift`를 누른 상태에서 셀 선택하면 여러 개 선택 가능(파일탐색기에서 Shift 누르고 파일 여러 개 선택하는 것과 비슷)\n",
    "+ `Ctrl` + `Shift` + `-` : 커서를 기준으로 위 아래 셀 나누기"
   ]
  },
  {
   "cell_type": "markdown",
   "metadata": {},
   "source": [
    "3. 셀 복사하기/자르기/붙이기/삭제하기   \n",
    "명령어 모드에서(평소에 문서작업할 때와 유사합니다. 다만 `Ctrl`을 쓰지 않아요)\n",
    "+ `C` : 셀 복사\n",
    "+ `X` : 셀 자르기\n",
    "+ `V` : 셀 붙이기\n",
    "+ `DD` : 셀 삭제하기(두 번 누르는 것 맞아요)"
   ]
  },
  {
   "cell_type": "markdown",
   "metadata": {},
   "source": [
    "4. 몇 번째 줄인지 확인하기   \n",
    "명령어 모드에서\n",
    "+ `L` : 한 번 누르면 옆에 몇 번째 줄인지 나옵니다. 다시 누르면 사라지고 다시 누르면 생기고"
   ]
  },
  {
   "cell_type": "markdown",
   "metadata": {},
   "source": [
    "5. 단어 검색하기\n",
    "명령어 모드에서\n",
    "+ `F` : 단어검색해줘요  \n",
    "\n",
    "그냥 `Ctrl` + `F` 하셔도됩니다(일반적인 웹에서 사용하는 명령어)"
   ]
  },
  {
   "cell_type": "markdown",
   "metadata": {},
   "source": [
    "+. 다른 명령어도 확인하기\n",
    "+ `Ctrl` + `Shift` + `P` : 명령어 모음집이 나옵니다."
   ]
  }
 ],
 "metadata": {
  "kernelspec": {
   "display_name": "Python 3",
   "language": "python",
   "name": "python3"
  },
  "language_info": {
   "codemirror_mode": {
    "name": "ipython",
    "version": 3
   },
   "file_extension": ".py",
   "mimetype": "text/x-python",
   "name": "python",
   "nbconvert_exporter": "python",
   "pygments_lexer": "ipython3",
   "version": "3.7.9"
  }
 },
 "nbformat": 4,
 "nbformat_minor": 4
}
