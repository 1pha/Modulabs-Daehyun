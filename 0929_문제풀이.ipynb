{
 "cells": [
  {
   "cell_type": "markdown",
   "metadata": {
    "ExecuteTime": {
     "end_time": "2020-09-29T12:03:28.346191Z",
     "start_time": "2020-09-29T12:03:28.337113Z"
    }
   },
   "source": [
    "# [22장 심사문제](https://edu.dojang.io/mod/quiz/review.php?attempt=121016&cmid=2991)"
   ]
  },
  {
   "cell_type": "markdown",
   "metadata": {},
   "source": [
    "짧게하면서 동시에 가독성이 좋은 코드"
   ]
  },
  {
   "cell_type": "markdown",
   "metadata": {},
   "source": [
    "## 우선 입력을 받아준다!"
   ]
  },
  {
   "cell_type": "code",
   "execution_count": 28,
   "metadata": {
    "ExecuteTime": {
     "end_time": "2020-09-29T12:42:40.527871Z",
     "start_time": "2020-09-29T12:42:37.554661Z"
    }
   },
   "outputs": [
    {
     "name": "stdout",
     "output_type": "stream",
     "text": [
      "1 10\n"
     ]
    }
   ],
   "source": [
    "start, end = map(int, input().split())"
   ]
  },
  {
   "cell_type": "code",
   "execution_count": 29,
   "metadata": {
    "ExecuteTime": {
     "end_time": "2020-09-29T12:42:40.810925Z",
     "start_time": "2020-09-29T12:42:40.794905Z"
    }
   },
   "outputs": [
    {
     "data": {
      "text/plain": [
       "(1, 10)"
      ]
     },
     "execution_count": 29,
     "metadata": {},
     "output_type": "execute_result"
    }
   ],
   "source": [
    "start, end"
   ]
  },
  {
   "cell_type": "markdown",
   "metadata": {},
   "source": [
    "## 복잡하게 생각하지말고 일단 2의 거듭제곱이 담긴 리스트를 만들어본다! 아는대로!"
   ]
  },
  {
   "cell_type": "markdown",
   "metadata": {},
   "source": [
    "### 일단 직관적으로 for문으로 만들어본다!"
   ]
  },
  {
   "cell_type": "code",
   "execution_count": 30,
   "metadata": {
    "ExecuteTime": {
     "end_time": "2020-09-29T12:42:41.301489Z",
     "start_time": "2020-09-29T12:42:41.290484Z"
    }
   },
   "outputs": [
    {
     "name": "stdout",
     "output_type": "stream",
     "text": [
      "0 2\n",
      "1 4\n",
      "2 8\n",
      "3 16\n",
      "4 32\n",
      "5 64\n",
      "6 128\n",
      "7 256\n",
      "8 512\n",
      "9 1024\n"
     ]
    }
   ],
   "source": [
    "for idx, i in enumerate(range(start, end+1)):\n",
    "    print(idx, 2**i) # -> List Comprehension"
   ]
  },
  {
   "cell_type": "markdown",
   "metadata": {},
   "source": [
    "### 음 다해보고 나니 왠지 List Comprehension으로 줄일 수 있을 것 같은 기분!"
   ]
  },
  {
   "cell_type": "code",
   "execution_count": 50,
   "metadata": {
    "ExecuteTime": {
     "end_time": "2020-09-29T13:04:46.204286Z",
     "start_time": "2020-09-29T13:04:46.193104Z"
    }
   },
   "outputs": [
    {
     "data": {
      "text/plain": [
       "[2, 4, 8, 16, 32, 64, 128, 256, 512, 1024]"
      ]
     },
     "execution_count": 50,
     "metadata": {},
     "output_type": "execute_result"
    }
   ],
   "source": [
    "[2**i for i in range(start, end+1)]"
   ]
  },
  {
   "cell_type": "markdown",
   "metadata": {},
   "source": [
    "## 이제 첫번째, 마지막 원소를 빼보려는 시도를 한다!"
   ]
  },
  {
   "cell_type": "code",
   "execution_count": 51,
   "metadata": {
    "ExecuteTime": {
     "end_time": "2020-09-29T13:05:01.088887Z",
     "start_time": "2020-09-29T13:05:01.071921Z"
    }
   },
   "outputs": [
    {
     "name": "stdout",
     "output_type": "stream",
     "text": [
      "[2, 8, 16, 32, 64, 128, 256, 1024]\n"
     ]
    }
   ],
   "source": [
    "lst = [2**i for i in range(start, end+1)]\n",
    "\n",
    "lst.pop(1)\n",
    "lst.pop(-2)\n",
    "\n",
    "print(lst)"
   ]
  },
  {
   "cell_type": "markdown",
   "metadata": {
    "ExecuteTime": {
     "end_time": "2020-09-29T12:43:16.920105Z",
     "start_time": "2020-09-29T12:43:16.907590Z"
    }
   },
   "source": [
    "첫 번째, 뒤에서 두번째 원소의 **규칙성**을 따져본다. 따져보니 인덱싱할 때 1, -2를 사용하는데 -2=끝의수-첫번쨰수-1인 것 같으니 실제로 사용해본다"
   ]
  },
  {
   "cell_type": "code",
   "execution_count": 33,
   "metadata": {
    "ExecuteTime": {
     "end_time": "2020-09-29T12:43:32.319964Z",
     "start_time": "2020-09-29T12:43:32.315381Z"
    }
   },
   "outputs": [
    {
     "name": "stdout",
     "output_type": "stream",
     "text": [
      "[2, 8, 16, 32, 64, 128, 256, 1024]\n"
     ]
    }
   ],
   "source": [
    "print([2**i for idx, i in enumerate(range(start, end+1)) if idx not in [1, end-start-1]])"
   ]
  },
  {
   "cell_type": "markdown",
   "metadata": {},
   "source": [
    "정답!"
   ]
  },
  {
   "cell_type": "markdown",
   "metadata": {},
   "source": [
    "# [K번째수](https://programmers.co.kr/learn/courses/30/lessons/42748)"
   ]
  },
  {
   "cell_type": "markdown",
   "metadata": {},
   "source": [
    "## 프로그래머스는 함수를 요구하지만... 함수부터 짜지말고 하나하나 생각해보기 위해 변수로 우선 입력을 받아온다!"
   ]
  },
  {
   "cell_type": "code",
   "execution_count": 52,
   "metadata": {
    "ExecuteTime": {
     "end_time": "2020-09-29T13:06:07.456640Z",
     "start_time": "2020-09-29T13:06:07.440523Z"
    }
   },
   "outputs": [],
   "source": [
    "array = [1, 5, 2, 6, 3, 7, 4]\n",
    "commands = [[2, 5, 3], [4, 4, 1], [1, 7, 3]]"
   ]
  },
  {
   "cell_type": "markdown",
   "metadata": {},
   "source": [
    "## 어떻게 i, j, k를 받아올지 생각해본다."
   ]
  },
  {
   "cell_type": "markdown",
   "metadata": {},
   "source": [
    "생각해보니 리스트는 갯수만큼 변수를 주면(리스트 원소가 3개면 변수도 3개를 주면) 알아서 unpacking해주는 기능이 있었던 걸 떠올려본다. 그러면...!"
   ]
  },
  {
   "cell_type": "code",
   "execution_count": 53,
   "metadata": {
    "ExecuteTime": {
     "end_time": "2020-09-29T13:07:06.309439Z",
     "start_time": "2020-09-29T13:07:06.290540Z"
    }
   },
   "outputs": [
    {
     "data": {
      "text/plain": [
       "(2, 5, 3)"
      ]
     },
     "execution_count": 53,
     "metadata": {},
     "output_type": "execute_result"
    }
   ],
   "source": [
    "i, j, k = [2, 5, 3]\n",
    "i, j, k"
   ]
  },
  {
   "cell_type": "markdown",
   "metadata": {
    "ExecuteTime": {
     "end_time": "2020-09-29T12:59:36.245001Z",
     "start_time": "2020-09-29T12:59:36.240999Z"
    }
   },
   "source": [
    "## 문제에서 제시한 요구사항을 인덱싱해본다"
   ]
  },
  {
   "cell_type": "markdown",
   "metadata": {},
   "source": [
    "### i번째부터 j번째 원소를 우선 불러온다"
   ]
  },
  {
   "cell_type": "markdown",
   "metadata": {},
   "source": [
    "[5, 2, 3, 6]이 어떻게하면 인덱싱을 뽑을 수 있는지 생각해본다. array에서 [1:5]를 하면되는데 이는 i-1:j랑 일치하니까 일단 그렇게 써본다(어차피 컴퓨터는 안 고장나니까!)"
   ]
  },
  {
   "cell_type": "code",
   "execution_count": 54,
   "metadata": {
    "ExecuteTime": {
     "end_time": "2020-09-29T13:08:11.738667Z",
     "start_time": "2020-09-29T13:08:11.734633Z"
    }
   },
   "outputs": [
    {
     "data": {
      "text/plain": [
       "[5, 2, 6, 3]"
      ]
     },
     "execution_count": 54,
     "metadata": {},
     "output_type": "execute_result"
    }
   ],
   "source": [
    "array[1:5]"
   ]
  },
  {
   "cell_type": "code",
   "execution_count": 55,
   "metadata": {
    "ExecuteTime": {
     "end_time": "2020-09-29T13:08:19.296355Z",
     "start_time": "2020-09-29T13:08:19.279200Z"
    }
   },
   "outputs": [
    {
     "data": {
      "text/plain": [
       "[5, 2, 6, 3]"
      ]
     },
     "execution_count": 55,
     "metadata": {},
     "output_type": "execute_result"
    }
   ],
   "source": [
    "array[i-1:j]"
   ]
  },
  {
   "cell_type": "markdown",
   "metadata": {},
   "source": [
    "### 불러왔으니 정렬한다. 왠지 퍼실이 sorted를 알려준 것 같으니 사용한다"
   ]
  },
  {
   "cell_type": "code",
   "execution_count": 56,
   "metadata": {
    "ExecuteTime": {
     "end_time": "2020-09-29T13:08:58.970834Z",
     "start_time": "2020-09-29T13:08:58.959716Z"
    }
   },
   "outputs": [
    {
     "data": {
      "text/plain": [
       "[2, 3, 5, 6]"
      ]
     },
     "execution_count": 56,
     "metadata": {},
     "output_type": "execute_result"
    }
   ],
   "source": [
    "sorted(array[i-1:j])"
   ]
  },
  {
   "cell_type": "markdown",
   "metadata": {},
   "source": [
    "### 그리고 k번째 원소를 불러온다. 또 3번째 원소를 불러오려하니 k가 아니라 k-1로 인덱싱해야한다... 하라는대로 하면 될 것 같다"
   ]
  },
  {
   "cell_type": "code",
   "execution_count": 57,
   "metadata": {
    "ExecuteTime": {
     "end_time": "2020-09-29T13:09:28.420113Z",
     "start_time": "2020-09-29T13:09:28.415114Z"
    }
   },
   "outputs": [
    {
     "data": {
      "text/plain": [
       "5"
      ]
     },
     "execution_count": 57,
     "metadata": {},
     "output_type": "execute_result"
    }
   ],
   "source": [
    "sorted(array[i-1:j])[k-1]"
   ]
  },
  {
   "cell_type": "markdown",
   "metadata": {},
   "source": [
    "## 드디어 첫 번째 커맨드를 해결했으니 나머지도 한 번에 해결해보면..."
   ]
  },
  {
   "cell_type": "code",
   "execution_count": 58,
   "metadata": {
    "ExecuteTime": {
     "end_time": "2020-09-29T13:09:47.303205Z",
     "start_time": "2020-09-29T13:09:47.286032Z"
    }
   },
   "outputs": [
    {
     "data": {
      "text/plain": [
       "[5, 6, 3]"
      ]
     },
     "execution_count": 58,
     "metadata": {},
     "output_type": "execute_result"
    }
   ],
   "source": [
    "[sorted(array[i-1:j])[k-1] for (i, j, k) in commands]"
   ]
  },
  {
   "cell_type": "markdown",
   "metadata": {},
   "source": [
    "## 최종답안 정리"
   ]
  },
  {
   "cell_type": "code",
   "execution_count": 59,
   "metadata": {
    "ExecuteTime": {
     "end_time": "2020-09-29T13:09:54.835980Z",
     "start_time": "2020-09-29T13:09:54.827409Z"
    }
   },
   "outputs": [],
   "source": [
    "def solution(array, commands):\n",
    "    return [sorted(array[i-1:j])[k-1] for (i, j, k) in [[2, 5, 3], [4, 4, 1], [1, 7, 3]]]"
   ]
  },
  {
   "cell_type": "code",
   "execution_count": 60,
   "metadata": {
    "ExecuteTime": {
     "end_time": "2020-09-29T13:09:55.087036Z",
     "start_time": "2020-09-29T13:09:55.072012Z"
    }
   },
   "outputs": [
    {
     "data": {
      "text/plain": [
       "[5, 6, 3]"
      ]
     },
     "execution_count": 60,
     "metadata": {},
     "output_type": "execute_result"
    }
   ],
   "source": [
    "solution(array, commands)"
   ]
  }
 ],
 "metadata": {
  "kernelspec": {
   "display_name": "Python 3",
   "language": "python",
   "name": "python3"
  },
  "language_info": {
   "codemirror_mode": {
    "name": "ipython",
    "version": 3
   },
   "file_extension": ".py",
   "mimetype": "text/x-python",
   "name": "python",
   "nbconvert_exporter": "python",
   "pygments_lexer": "ipython3",
   "version": "3.8.3"
  },
  "toc": {
   "base_numbering": 1,
   "nav_menu": {},
   "number_sections": true,
   "sideBar": true,
   "skip_h1_title": false,
   "title_cell": "Table of Contents",
   "title_sidebar": "Contents",
   "toc_cell": false,
   "toc_position": {},
   "toc_section_display": true,
   "toc_window_display": false
  }
 },
 "nbformat": 4,
 "nbformat_minor": 4
}
