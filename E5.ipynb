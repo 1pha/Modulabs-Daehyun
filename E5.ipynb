{
 "cells": [
  {
   "cell_type": "markdown",
   "metadata": {},
   "source": [
    "### 02. 어떻게 만들까? 사진 준비하기"
   ]
  },
  {
   "cell_type": "markdown",
   "metadata": {},
   "source": [
    "Landmark finding!"
   ]
  },
  {
   "cell_type": "code",
   "execution_count": 1,
   "metadata": {},
   "outputs": [
    {
     "name": "stdout",
     "output_type": "stream",
     "text": [
      "🌫🛸\n"
     ]
    }
   ],
   "source": [
    "import cv2\n",
    "import matplotlib.pyplot as plt\n",
    "import numpy as np\n",
    "print(\"🌫🛸\")"
   ]
  },
  {
   "cell_type": "code",
   "execution_count": 3,
   "metadata": {},
   "outputs": [
    {
     "data": {
      "image/png": "[encoded data removed]",
      "text/plain": [
       "<Figure size 432x288 with 1 Axes>"
      ]
     },
     "metadata": {
      "needs_background": "light"
     },
     "output_type": "display_data"
    }
   ],
   "source": [
    "import os\n",
    "# my_image_path = '../images/image.jpg'\n",
    "my_image_path = './images/king.png'\n",
    "img_bgr = cv2.imread(my_image_path)    #- OpenCV로 이미지를 읽어서\n",
    "img_bgr = cv2.resize(img_bgr, (640, 360))    # 640x360의 크기로 Resize\n",
    "img_show = img_bgr.copy()      #- 출력용 이미지 별도 보관\n",
    "plt.imshow(img_bgr)\n",
    "plt.show()"
   ]
  },
  {
   "cell_type": "code",
   "execution_count": 4,
   "metadata": {},
   "outputs": [
    {
     "data": {
      "image/png": "[encoded data removed]",
      "text/plain": [
       "<Figure size 432x288 with 1 Axes>"
      ]
     },
     "metadata": {
      "needs_background": "light"
     },
     "output_type": "display_data"
    }
   ],
   "source": [
    "# plt.imshow 이전에 RGB 이미지로 바꾸는 것을 잊지마세요. \n",
    "img_rgb = cv2.cvtColor(img_bgr, cv2.COLOR_BGR2RGB)\n",
    "plt.imshow(img_rgb)\n",
    "plt.show()"
   ]
  },
  {
   "cell_type": "markdown",
   "metadata": {},
   "source": [
    "## 03. 얼굴 검출 Face Detection"
   ]
  },
  {
   "cell_type": "code",
   "execution_count": 5,
   "metadata": {},
   "outputs": [
    {
     "name": "stdout",
     "output_type": "stream",
     "text": [
      "Collecting dlib\n",
      "  Downloading dlib-19.21.0.tar.gz (3.2 MB)\n",
      "Building wheels for collected packages: dlib\n",
      "  Building wheel for dlib (setup.py): started\n",
      "  Building wheel for dlib (setup.py): finished with status 'error'\n",
      "  Running setup.py clean for dlib\n",
      "Failed to build dlib\n",
      "Installing collected packages: dlib\n",
      "    Running setup.py install for dlib: started\n",
      "    Running setup.py install for dlib: finished with status 'error'\n"
     ]
    },
    {
     "name": "stderr",
     "output_type": "stream",
     "text": [
      "  ERROR: Command errored out with exit status 1:\n",
      "   command: 'C:\\Users\\pha\\anaconda3\\envs\\aiffel\\python.exe' -u -c 'import sys, setuptools, tokenize; sys.argv[0] = '\"'\"'C:\\\\Users\\\\pha\\\\AppData\\\\Local\\\\Temp\\\\pip-install-faed8hfi\\\\dlib\\\\setup.py'\"'\"'; __file__='\"'\"'C:\\\\Users\\\\pha\\\\AppData\\\\Local\\\\Temp\\\\pip-install-faed8hfi\\\\dlib\\\\setup.py'\"'\"';f=getattr(tokenize, '\"'\"'open'\"'\"', open)(__file__);code=f.read().replace('\"'\"'\\r\\n'\"'\"', '\"'\"'\\n'\"'\"');f.close();exec(compile(code, __file__, '\"'\"'exec'\"'\"'))' bdist_wheel -d 'C:\\Users\\pha\\AppData\\Local\\Temp\\pip-wheel-2jp051y8'\n",
      "       cwd: C:\\Users\\pha\\AppData\\Local\\Temp\\pip-install-faed8hfi\\dlib\\\n",
      "  Complete output (58 lines):\n",
      "  running bdist_wheel\n",
      "  running build\n",
      "  running build_py\n",
      "  package init file 'tools\\python\\dlib\\__init__.py' not found (or not a regular file)\n",
      "  running build_ext\n",
      "  Building extension for Python 3.7.9 (default, Aug 31 2020, 17:10:11) [MSC v.1916 64 bit (AMD64)]\n",
      "  Invoking CMake setup: 'cmake C:\\Users\\pha\\AppData\\Local\\Temp\\pip-install-faed8hfi\\dlib\\tools\\python -DCMAKE_LIBRARY_OUTPUT_DIRECTORY=C:\\Users\\pha\\AppData\\Local\\Temp\\pip-install-faed8hfi\\dlib\\build\\lib.win-amd64-3.7 -DPYTHON_EXECUTABLE=C:\\Users\\pha\\anaconda3\\envs\\aiffel\\python.exe -DCMAKE_LIBRARY_OUTPUT_DIRECTORY_RELEASE=C:\\Users\\pha\\AppData\\Local\\Temp\\pip-install-faed8hfi\\dlib\\build\\lib.win-amd64-3.7 -A x64'\n",
      "  -- Building for: NMake Makefiles\n",
      "  CMake Error at CMakeLists.txt:5 (message):\n",
      "  \n",
      "  \n",
      "  \n",
      "    !!!!!!!!!!!!!!!!!!!!!!!!!!!!!!!!!!!!!!!!!!!!!!!!!!!!!!!!!!!!!!!!!!!!!!!!!!!!!!!\n",
      "  \n",
      "  \n",
      "    You must use Visual Studio to build a python extension on windows.  If you\n",
      "    are getting this error it means you have not installed Visual C++.  Note\n",
      "    that there are many flavors of Visual Studio, like Visual Studio for C#\n",
      "    development.  You need to install Visual Studio for C++.\n",
      "  \n",
      "  \n",
      "    !!!!!!!!!!!!!!!!!!!!!!!!!!!!!!!!!!!!!!!!!!!!!!!!!!!!!!!!!!!!!!!!!!!!!!!!!!!!!!!\n",
      "  \n",
      "  \n",
      "  \n",
      "  \n",
      "  -- Configuring incomplete, errors occurred!\n",
      "  Traceback (most recent call last):\n",
      "    File \"<string>\", line 1, in <module>\n",
      "    File \"C:\\Users\\pha\\AppData\\Local\\Temp\\pip-install-faed8hfi\\dlib\\setup.py\", line 262, in <module>\n",
      "      'Topic :: Software Development',\n",
      "    File \"C:\\Users\\pha\\anaconda3\\envs\\aiffel\\lib\\site-packages\\setuptools\\__init__.py\", line 153, in setup\n",
      "      return distutils.core.setup(**attrs)\n",
      "    File \"C:\\Users\\pha\\anaconda3\\envs\\aiffel\\lib\\distutils\\core.py\", line 148, in setup\n",
      "      dist.run_commands()\n",
      "    File \"C:\\Users\\pha\\anaconda3\\envs\\aiffel\\lib\\distutils\\dist.py\", line 966, in run_commands\n",
      "      self.run_command(cmd)\n",
      "    File \"C:\\Users\\pha\\anaconda3\\envs\\aiffel\\lib\\distutils\\dist.py\", line 985, in run_command\n",
      "      cmd_obj.run()\n",
      "    File \"C:\\Users\\pha\\anaconda3\\envs\\aiffel\\lib\\site-packages\\wheel\\bdist_wheel.py\", line 290, in run\n",
      "      self.run_command('build')\n",
      "    File \"C:\\Users\\pha\\anaconda3\\envs\\aiffel\\lib\\distutils\\cmd.py\", line 313, in run_command\n",
      "      self.distribution.run_command(command)\n",
      "    File \"C:\\Users\\pha\\anaconda3\\envs\\aiffel\\lib\\distutils\\dist.py\", line 985, in run_command\n",
      "      cmd_obj.run()\n",
      "    File \"C:\\Users\\pha\\anaconda3\\envs\\aiffel\\lib\\distutils\\command\\build.py\", line 135, in run\n",
      "      self.run_command(cmd_name)\n",
      "    File \"C:\\Users\\pha\\anaconda3\\envs\\aiffel\\lib\\distutils\\cmd.py\", line 313, in run_command\n",
      "      self.distribution.run_command(command)\n",
      "    File \"C:\\Users\\pha\\anaconda3\\envs\\aiffel\\lib\\distutils\\dist.py\", line 985, in run_command\n",
      "      cmd_obj.run()\n",
      "    File \"C:\\Users\\pha\\AppData\\Local\\Temp\\pip-install-faed8hfi\\dlib\\setup.py\", line 135, in run\n",
      "      self.build_extension(ext)\n",
      "    File \"C:\\Users\\pha\\AppData\\Local\\Temp\\pip-install-faed8hfi\\dlib\\setup.py\", line 172, in build_extension\n",
      "      subprocess.check_call(cmake_setup, cwd=build_folder)\n",
      "    File \"C:\\Users\\pha\\anaconda3\\envs\\aiffel\\lib\\subprocess.py\", line 363, in check_call\n",
      "      raise CalledProcessError(retcode, cmd)\n",
      "  subprocess.CalledProcessError: Command '['cmake', 'C:\\\\Users\\\\pha\\\\AppData\\\\Local\\\\Temp\\\\pip-install-faed8hfi\\\\dlib\\\\tools\\\\python', '-DCMAKE_LIBRARY_OUTPUT_DIRECTORY=C:\\\\Users\\\\pha\\\\AppData\\\\Local\\\\Temp\\\\pip-install-faed8hfi\\\\dlib\\\\build\\\\lib.win-amd64-3.7', '-DPYTHON_EXECUTABLE=C:\\\\Users\\\\pha\\\\anaconda3\\\\envs\\\\aiffel\\\\python.exe', '-DCMAKE_LIBRARY_OUTPUT_DIRECTORY_RELEASE=C:\\\\Users\\\\pha\\\\AppData\\\\Local\\\\Temp\\\\pip-install-faed8hfi\\\\dlib\\\\build\\\\lib.win-amd64-3.7', '-A', 'x64']' returned non-zero exit status 1.\n",
      "  ----------------------------------------\n",
      "  ERROR: Failed building wheel for dlib\n",
      "    ERROR: Command errored out with exit status 1:\n",
      "     command: 'C:\\Users\\pha\\anaconda3\\envs\\aiffel\\python.exe' -u -c 'import sys, setuptools, tokenize; sys.argv[0] = '\"'\"'C:\\\\Users\\\\pha\\\\AppData\\\\Local\\\\Temp\\\\pip-install-faed8hfi\\\\dlib\\\\setup.py'\"'\"'; __file__='\"'\"'C:\\\\Users\\\\pha\\\\AppData\\\\Local\\\\Temp\\\\pip-install-faed8hfi\\\\dlib\\\\setup.py'\"'\"';f=getattr(tokenize, '\"'\"'open'\"'\"', open)(__file__);code=f.read().replace('\"'\"'\\r\\n'\"'\"', '\"'\"'\\n'\"'\"');f.close();exec(compile(code, __file__, '\"'\"'exec'\"'\"'))' install --record 'C:\\Users\\pha\\AppData\\Local\\Temp\\pip-record-0hvyeqyz\\install-record.txt' --single-version-externally-managed --compile --install-headers 'C:\\Users\\pha\\anaconda3\\envs\\aiffel\\Include\\dlib'\n",
      "         cwd: C:\\Users\\pha\\AppData\\Local\\Temp\\pip-install-faed8hfi\\dlib\\\n",
      "    Complete output (60 lines):\n",
      "    running install\n",
      "    running build\n",
      "    running build_py\n",
      "    package init file 'tools\\python\\dlib\\__init__.py' not found (or not a regular file)\n",
      "    running build_ext\n",
      "    Building extension for Python 3.7.9 (default, Aug 31 2020, 17:10:11) [MSC v.1916 64 bit (AMD64)]\n",
      "    Invoking CMake setup: 'cmake C:\\Users\\pha\\AppData\\Local\\Temp\\pip-install-faed8hfi\\dlib\\tools\\python -DCMAKE_LIBRARY_OUTPUT_DIRECTORY=C:\\Users\\pha\\AppData\\Local\\Temp\\pip-install-faed8hfi\\dlib\\build\\lib.win-amd64-3.7 -DPYTHON_EXECUTABLE=C:\\Users\\pha\\anaconda3\\envs\\aiffel\\python.exe -DCMAKE_LIBRARY_OUTPUT_DIRECTORY_RELEASE=C:\\Users\\pha\\AppData\\Local\\Temp\\pip-install-faed8hfi\\dlib\\build\\lib.win-amd64-3.7 -A x64'\n",
      "    -- Building for: NMake Makefiles\n",
      "    CMake Error at CMakeLists.txt:5 (message):\n",
      "    \n",
      "    \n",
      "    \n",
      "      !!!!!!!!!!!!!!!!!!!!!!!!!!!!!!!!!!!!!!!!!!!!!!!!!!!!!!!!!!!!!!!!!!!!!!!!!!!!!!!\n",
      "    \n",
      "    \n",
      "      You must use Visual Studio to build a python extension on windows.  If you\n",
      "      are getting this error it means you have not installed Visual C++.  Note\n",
      "      that there are many flavors of Visual Studio, like Visual Studio for C#\n",
      "      development.  You need to install Visual Studio for C++.\n",
      "    \n",
      "    \n",
      "      !!!!!!!!!!!!!!!!!!!!!!!!!!!!!!!!!!!!!!!!!!!!!!!!!!!!!!!!!!!!!!!!!!!!!!!!!!!!!!!\n",
      "    \n",
      "    \n",
      "    \n",
      "    \n",
      "    -- Configuring incomplete, errors occurred!\n",
      "    Traceback (most recent call last):\n",
      "      File \"<string>\", line 1, in <module>\n",
      "      File \"C:\\Users\\pha\\AppData\\Local\\Temp\\pip-install-faed8hfi\\dlib\\setup.py\", line 262, in <module>\n",
      "        'Topic :: Software Development',\n",
      "      File \"C:\\Users\\pha\\anaconda3\\envs\\aiffel\\lib\\site-packages\\setuptools\\__init__.py\", line 153, in setup\n",
      "        return distutils.core.setup(**attrs)\n",
      "      File \"C:\\Users\\pha\\anaconda3\\envs\\aiffel\\lib\\distutils\\core.py\", line 148, in setup"
     ]
    }
   ],
   "source": [
    "# !pip install dlib"
   ]
  },
  {
   "cell_type": "code",
   "execution_count": 6,
   "metadata": {},
   "outputs": [
    {
     "name": "stderr",
     "output_type": "stream",
     "text": [
      "\n",
      "        dist.run_commands()\n",
      "      File \"C:\\Users\\pha\\anaconda3\\envs\\aiffel\\lib\\distutils\\dist.py\", line 966, in run_commands\n",
      "        self.run_command(cmd)\n",
      "      File \"C:\\Users\\pha\\anaconda3\\envs\\aiffel\\lib\\distutils\\dist.py\", line 985, in run_command\n",
      "        cmd_obj.run()\n",
      "      File \"C:\\Users\\pha\\anaconda3\\envs\\aiffel\\lib\\site-packages\\setuptools\\command\\install.py\", line 61, in run\n",
      "        return orig.install.run(self)\n",
      "      File \"C:\\Users\\pha\\anaconda3\\envs\\aiffel\\lib\\distutils\\command\\install.py\", line 545, in run\n",
      "        self.run_command('build')\n",
      "      File \"C:\\Users\\pha\\anaconda3\\envs\\aiffel\\lib\\distutils\\cmd.py\", line 313, in run_command\n",
      "        self.distribution.run_command(command)\n",
      "      File \"C:\\Users\\pha\\anaconda3\\envs\\aiffel\\lib\\distutils\\dist.py\", line 985, in run_command\n",
      "        cmd_obj.run()\n",
      "      File \"C:\\Users\\pha\\anaconda3\\envs\\aiffel\\lib\\distutils\\command\\build.py\", line 135, in run\n",
      "        self.run_command(cmd_name)\n",
      "      File \"C:\\Users\\pha\\anaconda3\\envs\\aiffel\\lib\\distutils\\cmd.py\", line 313, in run_command\n",
      "        self.distribution.run_command(command)\n",
      "      File \"C:\\Users\\pha\\anaconda3\\envs\\aiffel\\lib\\distutils\\dist.py\", line 985, in run_command\n",
      "        cmd_obj.run()\n",
      "      File \"C:\\Users\\pha\\AppData\\Local\\Temp\\pip-install-faed8hfi\\dlib\\setup.py\", line 135, in run\n",
      "        self.build_extension(ext)\n",
      "      File \"C:\\Users\\pha\\AppData\\Local\\Temp\\pip-install-faed8hfi\\dlib\\setup.py\", line 172, in build_extension\n",
      "        subprocess.check_call(cmake_setup, cwd=build_folder)\n",
      "      File \"C:\\Users\\pha\\anaconda3\\envs\\aiffel\\lib\\subprocess.py\", line 363, in check_call\n",
      "        raise CalledProcessError(retcode, cmd)\n",
      "    subprocess.CalledProcessError: Command '['cmake', 'C:\\\\Users\\\\pha\\\\AppData\\\\Local\\\\Temp\\\\pip-install-faed8hfi\\\\dlib\\\\tools\\\\python', '-DCMAKE_LIBRARY_OUTPUT_DIRECTORY=C:\\\\Users\\\\pha\\\\AppData\\\\Local\\\\Temp\\\\pip-install-faed8hfi\\\\dlib\\\\build\\\\lib.win-amd64-3.7', '-DPYTHON_EXECUTABLE=C:\\\\Users\\\\pha\\\\anaconda3\\\\envs\\\\aiffel\\\\python.exe', '-DCMAKE_LIBRARY_OUTPUT_DIRECTORY_RELEASE=C:\\\\Users\\\\pha\\\\AppData\\\\Local\\\\Temp\\\\pip-install-faed8hfi\\\\dlib\\\\build\\\\lib.win-amd64-3.7', '-A', 'x64']' returned non-zero exit status 1.\n",
      "    ----------------------------------------\n",
      "ERROR: Command errored out with exit status 1: 'C:\\Users\\pha\\anaconda3\\envs\\aiffel\\python.exe' -u -c 'import sys, setuptools, tokenize; sys.argv[0] = '\"'\"'C:\\\\Users\\\\pha\\\\AppData\\\\Local\\\\Temp\\\\pip-install-faed8hfi\\\\dlib\\\\setup.py'\"'\"'; __file__='\"'\"'C:\\\\Users\\\\pha\\\\AppData\\\\Local\\\\Temp\\\\pip-install-faed8hfi\\\\dlib\\\\setup.py'\"'\"';f=getattr(tokenize, '\"'\"'open'\"'\"', open)(__file__);code=f.read().replace('\"'\"'\\r\\n'\"'\"', '\"'\"'\\n'\"'\"');f.close();exec(compile(code, __file__, '\"'\"'exec'\"'\"'))' install --record 'C:\\Users\\pha\\AppData\\Local\\Temp\\pip-record-0hvyeqyz\\install-record.txt' --single-version-externally-managed --compile --install-headers 'C:\\Users\\pha\\anaconda3\\envs\\aiffel\\Include\\dlib' Check the logs for full command output.\n"
     ]
    },
    {
     "ename": "ModuleNotFoundError",
     "evalue": "No module named 'dlib'",
     "output_type": "error",
     "traceback": [
      "\u001b[1;31m---------------------------------------------------------------------------\u001b[0m",
      "\u001b[1;31mModuleNotFoundError\u001b[0m                       Traceback (most recent call last)",
      "\u001b[1;32m<ipython-input-6-ce03730eded3>\u001b[0m in \u001b[0;36m<module>\u001b[1;34m\u001b[0m\n\u001b[1;32m----> 1\u001b[1;33m \u001b[1;32mimport\u001b[0m \u001b[0mdlib\u001b[0m\u001b[1;33m\u001b[0m\u001b[1;33m\u001b[0m\u001b[0m\n\u001b[0m\u001b[0;32m      2\u001b[0m \u001b[0mdetector_hog\u001b[0m \u001b[1;33m=\u001b[0m \u001b[0mdlib\u001b[0m\u001b[1;33m.\u001b[0m\u001b[0mget_frontal_face_detector\u001b[0m\u001b[1;33m(\u001b[0m\u001b[1;33m)\u001b[0m   \u001b[1;31m#- detector 선언\u001b[0m\u001b[1;33m\u001b[0m\u001b[1;33m\u001b[0m\u001b[0m\n\u001b[0;32m      3\u001b[0m \u001b[0mprint\u001b[0m\u001b[1;33m(\u001b[0m\u001b[1;34m\"🌫🛸\"\u001b[0m\u001b[1;33m)\u001b[0m\u001b[1;33m\u001b[0m\u001b[1;33m\u001b[0m\u001b[0m\n",
      "\u001b[1;31mModuleNotFoundError\u001b[0m: No module named 'dlib'"
     ]
    }
   ],
   "source": [
    "import dlib\n",
    "detector_hog = dlib.get_frontal_face_detector()   #- detector 선언\n",
    "print(\"🌫🛸\")"
   ]
  },
  {
   "cell_type": "code",
   "execution_count": null,
   "metadata": {},
   "outputs": [],
   "source": [
    "img_rgb = cv2.cvtColor(img_bgr, cv2.COLOR_BGR2RGB)\n",
    "dlib_rects = detector_hog(img_rgb, 1)   #- (image, num of img pyramid)\n",
    "print(\"🌫🛸\")"
   ]
  },
  {
   "cell_type": "code",
   "execution_count": null,
   "metadata": {},
   "outputs": [],
   "source": [
    "print(dlib_rects)   # 찾은 얼굴영역 좌표\n",
    "\n",
    "for dlib_rect in dlib_rects:\n",
    "    l = dlib_rect.left()\n",
    "    t = dlib_rect.top()\n",
    "    r = dlib_rect.right()\n",
    "    b = dlib_rect.bottom()\n",
    "\n",
    "    cv2.rectangle(img_show, (l,t), (r,b), (0,255,0), 2, lineType=cv2.LINE_AA)\n",
    "\n",
    "img_show_rgb =  cv2.cvtColor(img_show, cv2.COLOR_BGR2RGB)\n",
    "plt.imshow(img_show_rgb)\n",
    "plt.show()"
   ]
  },
  {
   "cell_type": "markdown",
   "metadata": {},
   "source": [
    "## 04. 얼굴 랜드마크 Face Landmark"
   ]
  },
  {
   "cell_type": "code",
   "execution_count": null,
   "metadata": {},
   "outputs": [],
   "source": []
  }
 ],
 "metadata": {
  "kernelspec": {
   "display_name": "Python 3",
   "language": "python",
   "name": "python3"
  },
  "language_info": {
   "codemirror_mode": {
    "name": "ipython",
    "version": 3
   },
   "file_extension": ".py",
   "mimetype": "text/x-python",
   "name": "python",
   "nbconvert_exporter": "python",
   "pygments_lexer": "ipython3",
   "version": "3.7.9"
  }
 },
 "nbformat": 4,
 "nbformat_minor": 4
}
